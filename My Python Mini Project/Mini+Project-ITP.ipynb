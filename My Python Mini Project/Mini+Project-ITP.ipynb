{
 "cells": [
  {
   "cell_type": "markdown",
   "id": "641361d0",
   "metadata": {},
   "source": [
    "# #Q1. Create a Dictionary of lists to store the information of shipments given in the table"
   ]
  },
  {
   "cell_type": "code",
   "execution_count": 6,
   "id": "3d28632d",
   "metadata": {},
   "outputs": [
    {
     "data": {
      "text/plain": [
       "{101: {'Sender': 1,\n",
       "  'Receiver': 3,\n",
       "  'Start date': '14-03-2020',\n",
       "  'Delivery date': '25-03-2020',\n",
       "  'Sender location': 'Area 1',\n",
       "  'Receiver location': 'Area 6',\n",
       "  'Delivery status': 'Delivered',\n",
       "  'Shipping cost': 198},\n",
       " 102: {'Sender': 4,\n",
       "  'Receiver': 1,\n",
       "  'Start date': '18-06-2020',\n",
       "  'Delivery date': '09-07-2020',\n",
       "  'Sender location': 'Area 2',\n",
       "  'Receiver location': 'Area 4',\n",
       "  'Delivery status': 'Delivered',\n",
       "  'Shipping cost': 275},\n",
       " 103: {'Sender': 2,\n",
       "  'Receiver': 3,\n",
       "  'Start date': '01-12-2020',\n",
       "  'Delivery date': 'Null',\n",
       "  'Sender location': 'Area 5',\n",
       "  'Receiver location': 'Area 1',\n",
       "  'Delivery status': 'In Transit',\n",
       "  'Shipping cost': 200},\n",
       " 104: {'Sender': 1,\n",
       "  'Receiver': 5,\n",
       "  'Start date': '23-06-2020',\n",
       "  'Delivery date': '25-06-2020',\n",
       "  'Sender location': 'Area 1',\n",
       "  'Receiver location': 'Area 4',\n",
       "  'Delivery status': 'Delivered',\n",
       "  'Shipping cost': 314},\n",
       " 105: {'Sender': 3,\n",
       "  'Receiver': 4,\n",
       "  'Start date': '29-08-2020',\n",
       "  'Delivery date': '10-09-2020',\n",
       "  'Sender location': 'Area 5',\n",
       "  'Receiver location': 'Area 3',\n",
       "  'Delivery status': 'Delivered',\n",
       "  'Shipping cost': 275},\n",
       " 106: {'Sender': 5,\n",
       "  'Receiver': 2,\n",
       "  'Start date': '28-06-2020',\n",
       "  'Delivery date': 'Null',\n",
       "  'Sender location': 'Area 3',\n",
       "  'Receiver location': 'Area 1',\n",
       "  'Delivery status': 'In Transit',\n",
       "  'Shipping cost': 270}}"
      ]
     },
     "execution_count": 6,
     "metadata": {},
     "output_type": "execute_result"
    }
   ],
   "source": [
    "\n",
    "d1={101:{'Sender':1,'Receiver':3,'Start date':'14-03-2020','Delivery date':'25-03-2020','Sender location':'Area 1','Receiver location':'Area 6','Delivery status':'Delivered','Shipping cost':198}, 102:{'Sender':4,'Receiver':1,'Start date':'18-06-2020','Delivery date':'09-07-2020','Sender location':'Area 2','Receiver location':'Area 4','Delivery status':'Delivered','Shipping cost':275}, 103:{'Sender':2,'Receiver':3,'Start date':'01-12-2020','Delivery date':'Null','Sender location':'Area 5','Receiver location':'Area 1','Delivery status':'In Transit','Shipping cost':200}, 104:{'Sender':1,'Receiver':5,'Start date':'23-06-2020','Delivery date':'25-06-2020','Sender location':'Area 1','Receiver location':'Area 4','Delivery status':'Delivered','Shipping cost':314}, 105:{'Sender':3,'Receiver':4,'Start date':'29-08-2020','Delivery date':'10-09-2020','Sender location':'Area 5','Receiver location':'Area 3','Delivery status':'Delivered','Shipping cost':275}, 106:{'Sender':5,'Receiver':2,'Start date':'28-06-2020','Delivery date':'Null','Sender location':'Area 3','Receiver location':'Area 1','Delivery status':'In Transit','Shipping cost':270}}\n",
    "d1"
   ]
  },
  {
   "cell_type": "markdown",
   "id": "d32f8cb7",
   "metadata": {},
   "source": [
    "# Q2. Create a Dictionary of to store the information of clients given in the table"
   ]
  },
  {
   "cell_type": "code",
   "execution_count": 5,
   "id": "3606d67a",
   "metadata": {},
   "outputs": [
    {
     "data": {
      "text/plain": [
       "{1: 'Philip', 2: 'Omega lll', 3: 'Ramya', 4: 'Romesh', 5: 'John'}"
      ]
     },
     "execution_count": 5,
     "metadata": {},
     "output_type": "execute_result"
    }
   ],
   "source": [
    "\n",
    "d2={1:'Philip',2:'Omega lll',3:'Ramya',4:'Romesh',5:'John'}\n",
    "d2"
   ]
  },
  {
   "cell_type": "markdown",
   "id": "d9592576",
   "metadata": {},
   "source": [
    "# Q3. Write a code to replace client’s id with their respective name in shipment dictionary using a loop and dictionary comprehension"
   ]
  },
  {
   "cell_type": "code",
   "execution_count": 18,
   "id": "1bce9130",
   "metadata": {},
   "outputs": [
    {
     "data": {
      "text/plain": [
       "{101: {'Sender': 'Philip',\n",
       "  'Receiver': 3,\n",
       "  'Start date': '14-03-2020',\n",
       "  'Delivery date': '25-03-2020',\n",
       "  'Sender location': 'Area 1',\n",
       "  'Receiver location': 'Area 6',\n",
       "  'Delivery status': 'Delivered',\n",
       "  'Shipping cost': 198},\n",
       " 102: {'Sender': 'Romesh',\n",
       "  'Receiver': 1,\n",
       "  'Start date': '18-06-2020',\n",
       "  'Delivery date': '09-07-2020',\n",
       "  'Sender location': 'Area 2',\n",
       "  'Receiver location': 'Area 4',\n",
       "  'Delivery status': 'Delivered',\n",
       "  'Shipping cost': 275},\n",
       " 103: {'Sender': 'Omega lll',\n",
       "  'Receiver': 3,\n",
       "  'Start date': '01-12-2020',\n",
       "  'Delivery date': 'Null',\n",
       "  'Sender location': 'Area 5',\n",
       "  'Receiver location': 'Area 1',\n",
       "  'Delivery status': 'In Transit',\n",
       "  'Shipping cost': 200},\n",
       " 104: {'Sender': 'Philip',\n",
       "  'Receiver': 5,\n",
       "  'Start date': '23-06-2020',\n",
       "  'Delivery date': '25-06-2020',\n",
       "  'Sender location': 'Area 1',\n",
       "  'Receiver location': 'Area 4',\n",
       "  'Delivery status': 'Delivered',\n",
       "  'Shipping cost': 314},\n",
       " 105: {'Sender': 'Ramya',\n",
       "  'Receiver': 4,\n",
       "  'Start date': '29-08-2020',\n",
       "  'Delivery date': '10-09-2020',\n",
       "  'Sender location': 'Area 5',\n",
       "  'Receiver location': 'Area 3',\n",
       "  'Delivery status': 'Delivered',\n",
       "  'Shipping cost': 275},\n",
       " 106: {'Sender': 'John',\n",
       "  'Receiver': 2,\n",
       "  'Start date': '28-06-2020',\n",
       "  'Delivery date': 'Null',\n",
       "  'Sender location': 'Area 3',\n",
       "  'Receiver location': 'Area 1',\n",
       "  'Delivery status': 'In Transit',\n",
       "  'Shipping cost': 270}}"
      ]
     },
     "execution_count": 18,
     "metadata": {},
     "output_type": "execute_result"
    }
   ],
   "source": [
    "\n",
    "d2={1:'Philip',2:'Omega lll',3:'Ramya',4:'Romesh',5:'John'}\n",
    "result = {key:{k: d2[v] if k in ('Sender') else v for k,v in value.items()} for key, value in d1.items()}\n",
    "result"
   ]
  },
  {
   "cell_type": "markdown",
   "id": "77d023cd",
   "metadata": {},
   "source": [
    "# Q4. Print all shipment details that are sent by Phillip"
   ]
  },
  {
   "cell_type": "code",
   "execution_count": 12,
   "id": "848b7e32",
   "metadata": {},
   "outputs": [
    {
     "data": {
      "text/plain": [
       "[{'Sender': 'Philip',\n",
       "  'Receiver': 3,\n",
       "  'Start date': '14-03-2020',\n",
       "  'Delivery date': '25-03-2020',\n",
       "  'Sender location': 'Area 1',\n",
       "  'Receiver location': 'Area 6',\n",
       "  'Delivery status': 'Delivered',\n",
       "  'Shipping cost': 198},\n",
       " {'Sender': 'Philip',\n",
       "  'Receiver': 5,\n",
       "  'Start date': '23-06-2020',\n",
       "  'Delivery date': '25-06-2020',\n",
       "  'Sender location': 'Area 1',\n",
       "  'Receiver location': 'Area 4',\n",
       "  'Delivery status': 'Delivered',\n",
       "  'Shipping cost': 314}]"
      ]
     },
     "execution_count": 12,
     "metadata": {},
     "output_type": "execute_result"
    }
   ],
   "source": [
    "\n",
    "d2={1:'Philip',2:'Omega lll',3:'Ramya',4:'Romesh',5:'John'}\n",
    "result = {key:{k: d2[v] if k in ('Sender') else v for k,v in value.items()} for key, value in d1.items()}\n",
    "philip=list(filter(lambda x:x['Sender']=='Philip',result.values()))\n",
    "philip"
   ]
  },
  {
   "cell_type": "markdown",
   "id": "ab4fbdda",
   "metadata": {},
   "source": [
    "# Q5. Print all shipment details that are received by Ramya"
   ]
  },
  {
   "cell_type": "code",
   "execution_count": 13,
   "id": "6590d3c0",
   "metadata": {},
   "outputs": [
    {
     "data": {
      "text/plain": [
       "[{'Sender': 'Ramya',\n",
       "  'Receiver': 4,\n",
       "  'Start date': '29-08-2020',\n",
       "  'Delivery date': '10-09-2020',\n",
       "  'Sender location': 'Area 5',\n",
       "  'Receiver location': 'Area 3',\n",
       "  'Delivery status': 'Delivered',\n",
       "  'Shipping cost': 275}]"
      ]
     },
     "execution_count": 13,
     "metadata": {},
     "output_type": "execute_result"
    }
   ],
   "source": [
    "\n",
    "ramya=list(filter(lambda x:x['Sender']=='Ramya',result.values()))\n",
    "ramya"
   ]
  },
  {
   "cell_type": "markdown",
   "id": "60b3d565",
   "metadata": {},
   "source": [
    "# Q6. Print all shipments which are in 'In-Transit' status"
   ]
  },
  {
   "cell_type": "code",
   "execution_count": 15,
   "id": "d5260b70",
   "metadata": {},
   "outputs": [
    {
     "data": {
      "text/plain": [
       "[{'Sender': 'Omega lll',\n",
       "  'Receiver': 3,\n",
       "  'Start date': '01-12-2020',\n",
       "  'Delivery date': 'Null',\n",
       "  'Sender location': 'Area 5',\n",
       "  'Receiver location': 'Area 1',\n",
       "  'Delivery status': 'In Transit',\n",
       "  'Shipping cost': 200},\n",
       " {'Sender': 'John',\n",
       "  'Receiver': 2,\n",
       "  'Start date': '28-06-2020',\n",
       "  'Delivery date': 'Null',\n",
       "  'Sender location': 'Area 3',\n",
       "  'Receiver location': 'Area 1',\n",
       "  'Delivery status': 'In Transit',\n",
       "  'Shipping cost': 270}]"
      ]
     },
     "execution_count": 15,
     "metadata": {},
     "output_type": "execute_result"
    }
   ],
   "source": [
    "\n",
    "INTRANSIT=list(filter(lambda x:x['Delivery status']=='In Transit',result.values()))\n",
    "INTRANSIT"
   ]
  },
  {
   "cell_type": "markdown",
   "id": "5f285d15",
   "metadata": {},
   "source": [
    "# Q7. Print all shipments which are delivered within 7 days of courier Start date"
   ]
  },
  {
   "cell_type": "code",
   "execution_count": 7,
   "id": "82726a9f",
   "metadata": {},
   "outputs": [
    {
     "name": "stdout",
     "output_type": "stream",
     "text": [
      "104 - {'Sender': 1, 'Receiver': 5, 'Start date': '23-06-2020', 'Delivery date': '25-06-2020', 'Sender location': 'Area 1', 'Receiver location': 'Area 4', 'Delivery status': 'Delivered', 'Shipping cost': 314}\n"
     ]
    }
   ],
   "source": [
    "d_11={101:{'Sender':1,'Receiver':3,'Start date':'14-03-2020','Delivery date':'25-03-2020','Sender location':'Area 1','Receiver location':'Area 6','Delivery status':'Delivered','Shipping cost':198}, 102:{'Sender':4,'Receiver':1,'Start date':'18-06-2020','Delivery date':'09-07-2020','Sender location':'Area 2','Receiver location':'Area 4','Delivery status':'Delivered','Shipping cost':275}, 103:{'Sender':2,'Receiver':3,'Start date':'01-12-2020','Delivery date':'Null','Sender location':'Area 5','Receiver location':'Area 1','Delivery status':'In Transit','Shipping cost':200}, 104:{'Sender':1,'Receiver':5,'Start date':'23-06-2020','Delivery date':'25-06-2020','Sender location':'Area 1','Receiver location':'Area 4','Delivery status':'Delivered','Shipping cost':314}, 105:{'Sender':3,'Receiver':4,'Start date':'29-08-2020','Delivery date':'10-09-2020','Sender location':'Area 5','Receiver location':'Area 3','Delivery status':'Delivered','Shipping cost':275}, 106:{'Sender':5,'Receiver':2,'Start date':'28-06-2020','Delivery date':'Null','Sender location':'Area 3','Receiver location':'Area 1','Delivery status':'In Transit','Shipping cost':270}}\n",
    "d_11\n",
    "from datetime import datetime\n",
    "for key,value in d_11.items():\n",
    "    if value['Delivery date'] !=\"Null\":\n",
    "        x1=datetime.strptime(value['Start date'],\"%d-%m-%Y\")\n",
    "        x2=datetime.strptime(value['Delivery date'],\"%d-%m-%Y\")\n",
    "    if(x2-x1).days<=7:\n",
    "        print(key,'-',value)"
   ]
  },
  {
   "cell_type": "markdown",
   "id": "79a612ae",
   "metadata": {},
   "source": [
    "# Q8. Print all shipments which are delivered after 15 days of courier start date or not yet been delivered"
   ]
  },
  {
   "cell_type": "code",
   "execution_count": 9,
   "id": "5d2d0d3e",
   "metadata": {},
   "outputs": [
    {
     "name": "stdout",
     "output_type": "stream",
     "text": [
      "102 - {'Sender': 4, 'Receiver': 1, 'Start date': '18-06-2020', 'Delivery date': '09-07-2020', 'Sender location': 'Area 2', 'Receiver location': 'Area 4', 'Delivery status': 'Delivered', 'Shipping cost': 275}\n",
      "103 - {'Sender': 2, 'Receiver': 3, 'Start date': '01-12-2020', 'Delivery date': 'Null', 'Sender location': 'Area 5', 'Receiver location': 'Area 1', 'Delivery status': 'In Transit', 'Shipping cost': 200}\n"
     ]
    }
   ],
   "source": [
    "d1={101:{'Sender':1,'Receiver':3,'Start date':'14-03-2020','Delivery date':'25-03-2020','Sender location':'Area 1','Receiver location':'Area 6','Delivery status':'Delivered','Shipping cost':198}, 102:{'Sender':4,'Receiver':1,'Start date':'18-06-2020','Delivery date':'09-07-2020','Sender location':'Area 2','Receiver location':'Area 4','Delivery status':'Delivered','Shipping cost':275}, 103:{'Sender':2,'Receiver':3,'Start date':'01-12-2020','Delivery date':'Null','Sender location':'Area 5','Receiver location':'Area 1','Delivery status':'In Transit','Shipping cost':200}, 104:{'Sender':1,'Receiver':5,'Start date':'23-06-2020','Delivery date':'25-06-2020','Sender location':'Area 1','Receiver location':'Area 4','Delivery status':'Delivered','Shipping cost':314}, 105:{'Sender':3,'Receiver':4,'Start date':'29-08-2020','Delivery date':'10-09-2020','Sender location':'Area 5','Receiver location':'Area 3','Delivery status':'Delivered','Shipping cost':275}, 106:{'Sender':5,'Receiver':2,'Start date':'28-06-2020','Delivery date':'Null','Sender location':'Area 3','Receiver location':'Area 1','Delivery status':'In Transit','Shipping cost':270}}\n",
    "d1\n",
    "from datetime import datetime\n",
    "for key,value in d1.items():\n",
    "    if value['Delivery date'] !=\"Null\":\n",
    "        x1=datetime.strptime(value['Start date'],\"%d-%m-%Y\")\n",
    "        x2=datetime.strptime(value['Delivery date'],\"%d-%m-%Y\")\n",
    "    if(x2-x1).days>15:\n",
    "        print(key,'-',value)"
   ]
  },
  {
   "cell_type": "markdown",
   "id": "8ff14044",
   "metadata": {},
   "source": [
    "# Q 9. Write a function find_all_routes to display all possible routes from senders location to receivers location given in the dictionary for each shipment."
   ]
  },
  {
   "cell_type": "code",
   "execution_count": 16,
   "id": "a9a5d682",
   "metadata": {},
   "outputs": [
    {
     "name": "stdout",
     "output_type": "stream",
     "text": [
      "{101: [1, 3, '14-03-2020', '25-03-2020', 'Area1', 'Area6', 'Delivered', 198], 102: [4, 1, '18-06-2020', '09-07-2020', 'Area2', 'Area4', 'Delivered', 275], 103: [2, 3, '01-12-2020', 'Null', 'Area5', 'Area1', 'In-Transit', 200], 104: [1, 5, '23-06-2020', '25-06-2020', 'Area1', 'Area4', 'Delivered', 314], 105: [3, 4, '29-08-2020', '10-09-2020', 'Area5', 'Area3', 'Delivered', 275], 106: [5, 2, '28-06-2020', 'Null', 'Area3', 'Area1', 'In-Transit', 270]}\n",
      "Shipment Id: 101\n",
      "Sender Location 1\n",
      "Receiver Locatio 6\n",
      "All posible routes:\n",
      "[1, 6]\n",
      "---------------------------------\n",
      "Shipment Id: 102\n",
      "Sender Location 2\n",
      "Receiver Locatio 4\n",
      "All posible routes:\n",
      "[2, 3, 4]\n",
      "[2, 4]\n",
      "---------------------------------\n",
      "Shipment Id: 103\n",
      "Sender Location 5\n",
      "Receiver Locatio 1\n",
      "All posible routes:\n",
      "[5, 4, 2, 1]\n",
      "[5, 4, 3, 2, 1]\n",
      "---------------------------------\n",
      "Shipment Id: 104\n",
      "Sender Location 1\n",
      "Receiver Locatio 4\n",
      "All posible routes:\n",
      "[1, 2, 3, 4]\n",
      "[1, 2, 4]\n",
      "---------------------------------\n",
      "Shipment Id: 105\n",
      "Sender Location 5\n",
      "Receiver Locatio 3\n",
      "All posible routes:\n",
      "[5, 4, 2, 3]\n",
      "[5, 4, 3]\n",
      "---------------------------------\n",
      "Shipment Id: 106\n",
      "Sender Location 3\n",
      "Receiver Locatio 1\n",
      "All posible routes:\n",
      "[3, 2, 1]\n",
      "[3, 4, 2, 1]\n",
      "---------------------------------\n"
     ]
    }
   ],
   "source": [
    "key_ship=[101,102,103,104,105,106]\n",
    "value_ship=[\n",
    "    [1, 3, '14-03-2020', '25-03-2020', 'Area1', 'Area6', 'Delivered', 198] ,\n",
    "    [4, 1, '18-06-2020', '09-07-2020', 'Area2', 'Area4', 'Delivered', 275] ,\n",
    "    [2, 3, '01-12-2020', 'Null', 'Area5', 'Area1', 'In-Transit', 200],\n",
    "    [1, 5, '23-06-2020', '25-06-2020', 'Area1', 'Area4', 'Delivered', 314],\n",
    "    [3, 4, '29-08-2020', '10-09-2020', 'Area5', 'Area3', 'Delivered', 275],\n",
    "    [5, 2, '28-06-2020', 'Null', 'Area3', 'Area1', 'In-Transit', 270]\n",
    "]\n",
    "\n",
    "zip_it= zip(key_ship,value_ship)\n",
    "ship=dict(zip_it)\n",
    "print(ship)\n",
    "\n",
    "def find_all_routes(matrix,u,d,visted,path):\n",
    "    \n",
    "    visted[u]=True\n",
    "    path.append(u+1)\n",
    "    if u==d:\n",
    "        print(path)\n",
    "        \n",
    "    else:\n",
    "        \n",
    "        for i in range(6):\n",
    "            if matrix[u][i] == 1 and (visted[i] == False):\n",
    "                \n",
    "                find_all_routes(matrix,i,d,visted,path)\n",
    "                    \n",
    "    path.pop()\n",
    "    visted[u]=False\n",
    "        \n",
    "matrix=[[0,1,0,0,0,1],[1,0,1,1,0,0],[0,1,0,1,0,0],[0,1,1,0,1,0],[0,0,0,1,0,0],[1,0,0,0,0,0]]\n",
    "visted=[False for i in range(6)]\n",
    "path=[]\n",
    "\n",
    "def show_all(ship):\n",
    "    for i in ship:\n",
    "        print(\"Shipment Id:\",i)\n",
    "        a=int(ship[i][4][-1])\n",
    "        print(\"Sender Location\",a)\n",
    "        b=int(ship[i][5][-1])\n",
    "        print(\"Receiver Locatio\",b)\n",
    "        print(\"All posible routes:\")\n",
    "        find_all_routes(matrix,a-1,b-1,visted, path)\n",
    "        print('---------------------------------')\n",
    "        \n",
    "show_all(ship)"
   ]
  },
  {
   "cell_type": "code",
   "execution_count": null,
   "id": "6e74ab1d",
   "metadata": {},
   "outputs": [],
   "source": []
  }
 ],
 "metadata": {
  "kernelspec": {
   "display_name": "Python 3 (ipykernel)",
   "language": "python",
   "name": "python3"
  },
  "language_info": {
   "codemirror_mode": {
    "name": "ipython",
    "version": 3
   },
   "file_extension": ".py",
   "mimetype": "text/x-python",
   "name": "python",
   "nbconvert_exporter": "python",
   "pygments_lexer": "ipython3",
   "version": "3.9.7"
  }
 },
 "nbformat": 4,
 "nbformat_minor": 5
}
